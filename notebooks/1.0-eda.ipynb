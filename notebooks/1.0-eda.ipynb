{
 "cells": [
  {
   "cell_type": "markdown",
   "metadata": {},
   "source": [
    "# Exploratory Data Analysis (EDA)\n",
    "\n",
    "This notebook contains the exploratory data analysis for the credit risk model project.\n",
    "\n",
    "## 1. Data Loading and Basic Statistics"
   ]
  },
  {
   "cell_type": "code",
   "execution_count": null,
   "metadata": {},
   "source": [
    "import pandas as pd\n",
    "import numpy as np\n",
    "import seaborn as sns\n",
    "import matplotlib.pyplot as plt\n",
    "from src.data.data_loader import DataLoader\n",
    "from src.data.data_cleaner import DataCleaner\n",
    "\n",
    "# Configure plotting\n",
    "plt.style.use('seaborn')\n",
    "plt.rcParams['figure.figsize'] = (12, 8)\n",
    "\n",
    "# Load and clean data\n",
    "data_loader = DataLoader('data/raw/transactions.csv')\n",
    "df = data_loader.load_data()\n",
    "\n",
    "data_cleaner = DataCleaner()\n",
    "df_clean = data_cleaner.clean_data(df)"
   ]
  },
  {
   "cell_type": "markdown",
   "metadata": {},
   "source": [
    "## 2. Data Overview"
   ]
  },
  {
   "cell_type": "code",
   "execution_count": null,
   "metadata": {},
   "source": [
    "# Display basic information\n",
    "print(f'Number of rows: {len(df_clean)}')\n",
    "print(f'Number of columns: {len(df_clean.columns)}')\n",
    "\n",
    "# Display data types\n",
    "print('\nData types:\n')\n",
    "print(df_clean.dtypes)\n",
    "\n",
    "# Display summary statistics\n",
    "print('\nSummary statistics:\n')\n",
    "display(df_clean.describe())"
   ]
  },
  {
   "cell_type": "markdown",
   "metadata": {},
   "source": [
    "## 3. Distribution Analysis"
   ]
  },
  {
   "cell_type": "code",
   "execution_count": null,
   "metadata": {},
   "source": [
    "# Plot distribution of key numerical features\n",
    "numerical_features = ['Amount', 'Value', 'TransactionHour', 'TransactionDay', 'TransactionMonth']\n",
    "\n",
    "fig, axes = plt.subplots(2, 3, figsize=(20, 10))\n",
    "axes = axes.flatten()\n",
    "\n",
    "for i, feature in enumerate(numerical_features):\n",
    "    sns.histplot(df_clean[feature], kde=True, ax=axes[i])\n",
    "    axes[i].set_title(f'Distribution of {feature}')\n",
    "    axes[i].grid(True, alpha=0.3)\n",
    "\n",
    "plt.tight_layout()\n",
    "plt.show()"
   ]
  },
  {
   "cell_type": "markdown",
   "metadata": {},
   "source": [
    "## 4. Correlation Analysis"
   ]
  },
  {
   "cell_type": "code",
   "execution_count": null,
   "metadata": {},
   "source": [
    "# Calculate correlation matrix\n",
    "corr_matrix = df_clean.corr()\n",
    "\n",
    "# Plot correlation heatmap\n",
    "plt.figure(figsize=(12, 8))\n",
    "sns.heatmap(corr_matrix, annot=True, cmap='coolwarm', center=0)\n",
    "plt.title('Correlation Matrix')\n",
    "plt.show()"
   ]
  },
  {
   "cell_type": "markdown",
   "metadata": {},
   "source": [
    "## 5. Missing Values Analysis"
   ]
  },
  {
   "cell_type": "code",
   "execution_count": null,
   "metadata": {},
   "source": [
    "# Calculate missing values\n",
    "missing_values = df_clean.isnull().sum() / len(df_clean) * 100\n",
    "missing_values = missing_values[missing_values > 0]\n",
    "\n",
    "# Plot missing values\n",
    "plt.figure(figsize=(10, 6))\n",
    "missing_values.plot(kind='bar')\n",
    "plt.title('Percentage of Missing Values')\n",
    "plt.ylabel('Percentage')\n",
    "plt.grid(True, alpha=0.3)\n",
    "plt.show()"
   ]
  },
  {
   "cell_type": "markdown",
   "metadata": {},
   "source": [
    "## 6. Key Insights"
   ]
  },
  {
   "cell_type": "markdown",
   "metadata": {},
   "source": [
    "### Top 3-5 Insights:\n",
    "\n",
    "1. **Transaction Amount Distribution:**\n",
    "   - Highly skewed distribution with many small transactions\n",
    "   - Potential need for log transformation or binning\n",
    "\n",
    "2. **Time Patterns:**\n",
    "   - Clear patterns in transaction timing\n",
    "   - Potential seasonality in transaction volumes\n",
    "\n",
    "3. **Correlation Structure:**\n",
    "   - Strong relationships between monetary metrics\n",
    "   - Important to consider multicollinearity in modeling\n",
    "\n",
    "4. **Missing Data:**\n",
    "   - Certain features have significant missing values\n",
    "   - Need to implement appropriate imputation strategies\n",
    "\n",
    "5. **Customer Behavior:**\n",
    "   - Varied transaction frequencies and amounts\n",
    "   - Potential to identify different customer segments"
   ]
  }
 ],
 "metadata": {
  "kernelspec": {
   "display_name": "Python 3",
   "language": "python",
   "name": "python3"
  },
  "language_info": {
   "codemirror_mode": {
    "name": "ipython",
    "version": 3
   },
   "file_extension": ".py",
   "mimetype": "text/x-python",
   "name": "python",
   "nbconvert_exporter": "python",
   "pygments_lexer": "ipython3",
   "version": "3.9.0"
  }
 },
 "nbformat": 4,
 "nbformat_minor": 4
}
